{
  "nbformat": 4,
  "nbformat_minor": 0,
  "metadata": {
    "colab": {
      "provenance": []
    },
    "kernelspec": {
      "name": "python3",
      "display_name": "Python 3"
    },
    "language_info": {
      "name": "python"
    }
  },
  "cells": [
    {
      "cell_type": "markdown",
      "source": [
        "# **Download YouTube Video by Pasting Link in Python**\n",
        "- Author: **Rohan Waghmare**"
      ],
      "metadata": {
        "id": "6LlFpzcTA97m"
      }
    },
    {
      "cell_type": "markdown",
      "source": [
        "# Table of Contents\n",
        "\n",
        "1. [Setup and Installation](#setup-and-installation)\n",
        "   - Installing Required Libraries\n",
        "\n",
        "2. [Importing Libraries](#importing-libraries)\n",
        "\n",
        "3. [Entering the YouTube Video Link](#entering-the-youtube-video-link)\n",
        "\n",
        "4. [Extracting Video Details](#extracting-video-details)\n",
        "   - Getting the Video Title\n",
        "   - Viewing the Number of Views\n",
        "   - Checking Video Duration\n",
        "   - Reading the Description\n",
        "   - Checking Video Ratings\n",
        "\n",
        "5. [Downloading the YouTube Video](#downloading-the-youtube-video)\n",
        "   - Prompting for Download Confirmation\n",
        "   - Downloading with `yt-dlp`\n",
        "   - Handling Canceled Downloads\n",
        "\n",
        "6. [Viewing the Download Location](#viewing-the-download-location)\n"
      ],
      "metadata": {
        "id": "q2Jl84jkAG7E"
      }
    },
    {
      "cell_type": "markdown",
      "source": [
        "## **1. Setup and Installation**\n",
        "   - **Installing Required Libraries**"
      ],
      "metadata": {
        "id": "Pncf2JlUBUUN"
      }
    },
    {
      "cell_type": "code",
      "execution_count": 1,
      "metadata": {
        "colab": {
          "base_uri": "https://localhost:8080/"
        },
        "id": "drdY9f5ouozK",
        "outputId": "0db84408-31ea-4e12-ce3c-3fdaa44743d1"
      },
      "outputs": [
        {
          "output_type": "stream",
          "name": "stdout",
          "text": [
            "Collecting pytube3\n",
            "  Downloading pytube3-9.6.4-py3-none-any.whl.metadata (16 kB)\n",
            "Requirement already satisfied: typing-extensions in /usr/local/lib/python3.10/dist-packages (from pytube3) (4.12.2)\n",
            "Downloading pytube3-9.6.4-py3-none-any.whl (38 kB)\n",
            "Installing collected packages: pytube3\n",
            "Successfully installed pytube3-9.6.4\n"
          ]
        }
      ],
      "source": [
        "pip install pytube3"
      ]
    },
    {
      "cell_type": "code",
      "source": [
        "pip install --upgrade pytube"
      ],
      "metadata": {
        "colab": {
          "base_uri": "https://localhost:8080/"
        },
        "id": "i0uhybLQurHl",
        "outputId": "ecd80a9e-32be-414c-a83c-ed0e12f0983d"
      },
      "execution_count": 2,
      "outputs": [
        {
          "output_type": "stream",
          "name": "stdout",
          "text": [
            "Collecting pytube\n",
            "  Downloading pytube-15.0.0-py3-none-any.whl.metadata (5.0 kB)\n",
            "Downloading pytube-15.0.0-py3-none-any.whl (57 kB)\n",
            "\u001b[2K   \u001b[90m━━━━━━━━━━━━━━━━━━━━━━━━━━━━━━━━━━━━━━━━\u001b[0m \u001b[32m57.6/57.6 kB\u001b[0m \u001b[31m930.3 kB/s\u001b[0m eta \u001b[36m0:00:00\u001b[0m\n",
            "\u001b[?25hInstalling collected packages: pytube\n",
            "Successfully installed pytube-15.0.0\n"
          ]
        }
      ]
    },
    {
      "cell_type": "code",
      "source": [
        "pip install yt-dlp"
      ],
      "metadata": {
        "colab": {
          "base_uri": "https://localhost:8080/"
        },
        "id": "xCNshi9Zu5_b",
        "outputId": "88539a79-c63c-486b-c45c-552b480013ea"
      },
      "execution_count": 4,
      "outputs": [
        {
          "output_type": "stream",
          "name": "stdout",
          "text": [
            "Collecting yt-dlp\n",
            "  Downloading yt_dlp-2024.8.6-py3-none-any.whl.metadata (170 kB)\n",
            "\u001b[2K     \u001b[90m━━━━━━━━━━━━━━━━━━━━━━━━━━━━━━━━━━━━━━━━\u001b[0m \u001b[32m170.1/170.1 kB\u001b[0m \u001b[31m1.5 MB/s\u001b[0m eta \u001b[36m0:00:00\u001b[0m\n",
            "\u001b[?25hCollecting brotli (from yt-dlp)\n",
            "  Downloading Brotli-1.1.0-cp310-cp310-manylinux_2_5_x86_64.manylinux1_x86_64.manylinux_2_12_x86_64.manylinux2010_x86_64.whl.metadata (5.5 kB)\n",
            "Requirement already satisfied: certifi in /usr/local/lib/python3.10/dist-packages (from yt-dlp) (2024.7.4)\n",
            "Collecting mutagen (from yt-dlp)\n",
            "  Downloading mutagen-1.47.0-py3-none-any.whl.metadata (1.7 kB)\n",
            "Collecting pycryptodomex (from yt-dlp)\n",
            "  Downloading pycryptodomex-3.20.0-cp35-abi3-manylinux_2_17_x86_64.manylinux2014_x86_64.whl.metadata (3.4 kB)\n",
            "Requirement already satisfied: requests<3,>=2.32.2 in /usr/local/lib/python3.10/dist-packages (from yt-dlp) (2.32.3)\n",
            "Requirement already satisfied: urllib3<3,>=1.26.17 in /usr/local/lib/python3.10/dist-packages (from yt-dlp) (2.0.7)\n",
            "Collecting websockets>=12.0 (from yt-dlp)\n",
            "  Downloading websockets-13.0.1-cp310-cp310-manylinux_2_5_x86_64.manylinux1_x86_64.manylinux_2_17_x86_64.manylinux2014_x86_64.whl.metadata (6.7 kB)\n",
            "Requirement already satisfied: charset-normalizer<4,>=2 in /usr/local/lib/python3.10/dist-packages (from requests<3,>=2.32.2->yt-dlp) (3.3.2)\n",
            "Requirement already satisfied: idna<4,>=2.5 in /usr/local/lib/python3.10/dist-packages (from requests<3,>=2.32.2->yt-dlp) (3.8)\n",
            "Downloading yt_dlp-2024.8.6-py3-none-any.whl (3.1 MB)\n",
            "\u001b[2K   \u001b[90m━━━━━━━━━━━━━━━━━━━━━━━━━━━━━━━━━━━━━━━━\u001b[0m \u001b[32m3.1/3.1 MB\u001b[0m \u001b[31m20.3 MB/s\u001b[0m eta \u001b[36m0:00:00\u001b[0m\n",
            "\u001b[?25hDownloading websockets-13.0.1-cp310-cp310-manylinux_2_5_x86_64.manylinux1_x86_64.manylinux_2_17_x86_64.manylinux2014_x86_64.whl (157 kB)\n",
            "\u001b[2K   \u001b[90m━━━━━━━━━━━━━━━━━━━━━━━━━━━━━━━━━━━━━━━━\u001b[0m \u001b[32m157.3/157.3 kB\u001b[0m \u001b[31m11.6 MB/s\u001b[0m eta \u001b[36m0:00:00\u001b[0m\n",
            "\u001b[?25hDownloading Brotli-1.1.0-cp310-cp310-manylinux_2_5_x86_64.manylinux1_x86_64.manylinux_2_12_x86_64.manylinux2010_x86_64.whl (3.0 MB)\n",
            "\u001b[2K   \u001b[90m━━━━━━━━━━━━━━━━━━━━━━━━━━━━━━━━━━━━━━━━\u001b[0m \u001b[32m3.0/3.0 MB\u001b[0m \u001b[31m73.0 MB/s\u001b[0m eta \u001b[36m0:00:00\u001b[0m\n",
            "\u001b[?25hDownloading mutagen-1.47.0-py3-none-any.whl (194 kB)\n",
            "\u001b[2K   \u001b[90m━━━━━━━━━━━━━━━━━━━━━━━━━━━━━━━━━━━━━━━━\u001b[0m \u001b[32m194.4/194.4 kB\u001b[0m \u001b[31m13.2 MB/s\u001b[0m eta \u001b[36m0:00:00\u001b[0m\n",
            "\u001b[?25hDownloading pycryptodomex-3.20.0-cp35-abi3-manylinux_2_17_x86_64.manylinux2014_x86_64.whl (2.1 MB)\n",
            "\u001b[2K   \u001b[90m━━━━━━━━━━━━━━━━━━━━━━━━━━━━━━━━━━━━━━━━\u001b[0m \u001b[32m2.1/2.1 MB\u001b[0m \u001b[31m64.7 MB/s\u001b[0m eta \u001b[36m0:00:00\u001b[0m\n",
            "\u001b[?25hInstalling collected packages: brotli, websockets, pycryptodomex, mutagen, yt-dlp\n",
            "Successfully installed brotli-1.1.0 mutagen-1.47.0 pycryptodomex-3.20.0 websockets-13.0.1 yt-dlp-2024.8.6\n"
          ]
        }
      ]
    },
    {
      "cell_type": "markdown",
      "source": [
        "## **2. Importing Libraries**"
      ],
      "metadata": {
        "id": "FD5YrlntBsj-"
      }
    },
    {
      "cell_type": "code",
      "source": [
        "from pytube import YouTube\n",
        "from yt_dlp import YoutubeDL"
      ],
      "metadata": {
        "id": "z_5BlkXCu2Iz"
      },
      "execution_count": 11,
      "outputs": []
    },
    {
      "cell_type": "markdown",
      "source": [
        "## **3. Pasting the YouTube Video Link**  "
      ],
      "metadata": {
        "id": "xx95vMtfB_CQ"
      }
    },
    {
      "cell_type": "code",
      "source": [
        "link = input(\"Past youtube video link here!\")\n",
        "yt = YouTube(link)"
      ],
      "metadata": {
        "colab": {
          "base_uri": "https://localhost:8080/"
        },
        "id": "qYwv-ApUu7l6",
        "outputId": "d24f9a4f-1422-4212-f41f-2d1b1c2204d3"
      },
      "execution_count": 12,
      "outputs": [
        {
          "name": "stdout",
          "output_type": "stream",
          "text": [
            "Past youtube video link here!https://www.youtube.com/watch?v=qbE0fzZ2Nfo\n"
          ]
        }
      ]
    },
    {
      "cell_type": "markdown",
      "source": [
        "## **4. Extracting Video Details**"
      ],
      "metadata": {
        "id": "WOl1aBSbCSAn"
      }
    },
    {
      "cell_type": "code",
      "source": [
        "# To print title\n",
        "print(\"Title :\", yt.title)\n",
        "# To get number of views\n",
        "print(\"Views :\", yt.views)\n",
        "# To get the length of video\n",
        "print(\"Duration :\", yt.length)\n",
        "# To get description\n",
        "print(\"Description :\", yt.description)\n",
        "# To get ratings\n",
        "print(\"Ratings :\", yt.rating)"
      ],
      "metadata": {
        "colab": {
          "base_uri": "https://localhost:8080/"
        },
        "id": "Dj3aPLXRvDLp",
        "outputId": "1731cc72-685e-494d-8101-f177954814f4"
      },
      "execution_count": 14,
      "outputs": [
        {
          "output_type": "stream",
          "name": "stdout",
          "text": [
            "Title : Kolkata Doctor Case\n",
            "Views : 4563855\n",
            "Duration : 1976\n",
            "Description : None\n",
            "Ratings : None\n"
          ]
        }
      ]
    },
    {
      "cell_type": "markdown",
      "source": [
        "## **5. Downloading the YouTube Video**"
      ],
      "metadata": {
        "id": "WXax1vYWCZG4"
      }
    },
    {
      "cell_type": "code",
      "source": [
        "from yt_dlp import YoutubeDL\n",
        "\n",
        "download_option = input(\"Do you want to download this video? (yes/no): \").lower()\n",
        "\n",
        "if download_option == \"yes\":\n",
        "    url = 'https://www.youtube.com/watch?v=eDN6fAWLNNE&t=5432s'\n",
        "    ydl_opts = {'format': 'best'}\n",
        "    with YoutubeDL(ydl_opts) as ydl:\n",
        "        print(\"Downloading...\")\n",
        "        ydl.download([url])\n",
        "        print(\"Download completed.\")\n",
        "else:\n",
        "    print(\"Download aborted.\")"
      ],
      "metadata": {
        "colab": {
          "base_uri": "https://localhost:8080/"
        },
        "id": "bws7vW4-vJEp",
        "outputId": "4ae5ae9f-747f-4bcf-a952-04a7d9416efb"
      },
      "execution_count": 15,
      "outputs": [
        {
          "output_type": "stream",
          "name": "stdout",
          "text": [
            "Do you want to download this video? (yes/no): yes\n",
            "Downloading...\n",
            "[youtube] Extracting URL: https://www.youtube.com/watch?v=eDN6fAWLNNE&t=5432s\n",
            "[youtube] eDN6fAWLNNE: Downloading webpage\n",
            "[youtube] eDN6fAWLNNE: Downloading ios player API JSON\n",
            "[youtube] eDN6fAWLNNE: Downloading web creator player API JSON\n",
            "[youtube] eDN6fAWLNNE: Downloading m3u8 information\n",
            "[info] eDN6fAWLNNE: Downloading 1 format(s): 18\n",
            "[download] Generative AI for Build LLM Model Using Lama 3,Hugging Face & Ollama ｜ NareshIT [eDN6fAWLNNE].mp4 has already been downloaded\n",
            "[download] 100% of  190.53MiB\n",
            "Download completed.\n"
          ]
        }
      ]
    },
    {
      "cell_type": "markdown",
      "source": [
        "## **6. Viewing the Download Location**"
      ],
      "metadata": {
        "id": "hKEAiP3DCoi8"
      }
    },
    {
      "cell_type": "code",
      "source": [
        "import os\n",
        "os.getcwd()"
      ],
      "metadata": {
        "colab": {
          "base_uri": "https://localhost:8080/",
          "height": 36
        },
        "id": "J95ycX6_vMvi",
        "outputId": "561b8cc1-c6d2-4f34-c493-97ba20d05b8d"
      },
      "execution_count": 16,
      "outputs": [
        {
          "output_type": "execute_result",
          "data": {
            "text/plain": [
              "'/content'"
            ],
            "application/vnd.google.colaboratory.intrinsic+json": {
              "type": "string"
            }
          },
          "metadata": {},
          "execution_count": 16
        }
      ]
    },
    {
      "cell_type": "markdown",
      "source": [
        "### End of project #rohanwaghmare"
      ],
      "metadata": {
        "id": "haaJ-NhcC6B0"
      }
    }
  ]
}